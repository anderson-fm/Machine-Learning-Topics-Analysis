{
  "nbformat": 4,
  "nbformat_minor": 0,
  "metadata": {
    "language_info": {
      "version": "3.5.2",
      "codemirror_mode": {
        "name": "ipython",
        "version": 3
      },
      "name": "python",
      "pygments_lexer": "ipython3",
      "nbconvert_exporter": "python",
      "mimetype": "text/x-python",
      "file_extension": ".py"
    },
    "kernelspec": {
      "name": "python3",
      "display_name": "Python 3",
      "language": "python"
    },
    "colab": {
      "name": "Hottest Machine Learning Topics",
      "provenance": [],
      "collapsed_sections": [],
      "toc_visible": true,
      "include_colab_link": true
    }
  },
  "cells": [
    {
      "cell_type": "markdown",
      "metadata": {
        "id": "view-in-github",
        "colab_type": "text"
      },
      "source": [
        "<a href=\"https://colab.research.google.com/github/anderson-fm/Machine-Learning-Topics-Analysis/blob/main/Hottest_Machine_Learning_Topics.ipynb\" target=\"_parent\"><img src=\"https://colab.research.google.com/assets/colab-badge.svg\" alt=\"Open In Colab\"/></a>"
      ]
    },
    {
      "cell_type": "markdown",
      "metadata": {
        "id": "WF_WdDrd_g5p"
      },
      "source": [
        "# Guided Project from DataCamp"
      ]
    },
    {
      "cell_type": "markdown",
      "metadata": {
        "editable": false,
        "run_control": {
          "frozen": true
        },
        "dc": {
          "key": "4"
        },
        "deletable": false,
        "tags": [
          "context"
        ],
        "id": "R9DqJngk3TtT"
      },
      "source": [
        "## 1. Loading the NIPS papers\n",
        "<p>The NIPS conference (Neural Information Processing Systems) is one of the most prestigious yearly events in the machine learning community. At each NIPS conference, a large number of research papers are published. Over 50,000 PDF files were automatically downloaded and processed to obtain a dataset on various machine learning techniques.\n",
        "\n",
        "These papers discuss a wide variety of topics in machine learning, from neural networks to optimization methods and many more.\n",
        "\n",
        "<img src=\https://github.com/anderson-fm/Machine-Learning-Topics-Analysis/blob/main/nips_logo.png\" alt=\"The logo of NIPS (Neural Information Processing Systems)\"></p>\n",
        "\n",
        "<p>First, we will get the most recent NIPS papers dataset from kaggle then we will explore it to determine what type of data we can use for the analysis and how it is structured. A research paper typically consists of a title, an abstract and the main text. Other data such as figures and tables were not extracted from the PDF files. Each paper discusses a novel technique or improvement. In this analysis, we will focus on analyzing these papers with natural language processing methods.</p>"
      ]
    },
    {
      "cell_type": "code",
      "metadata": {
        "trusted": true,
        "tags": [
          "sample_code"
        ],
        "dc": {
          "key": "4"
        },
        "colab": {
          "resources": {
            "http://localhost:8080/nbextensions/google.colab/files.js": {
              "data": "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",
              "ok": true,
              "headers": [
                [
                  "content-type",
                  "application/javascript"
                ]
              ],
              "status": 200,
              "status_text": ""
            }
          },
          "base_uri": "https://localhost:8080/",
          "height": 594
        },
        "id": "LYcPYxIi3TtY",
        "outputId": "d7c1d715-8221-4e8e-f768-764e944b75b5"
      },
      "source": [
        "#Download the dataset from Kaggle \n",
        "!pip install --upgrade --force-reinstall --no-deps kaggle\n",
        "\n",
        "from google.colab import files\n",
        "\n",
        "files.upload()\n",
        "\n",
        "#Choose the kaggle.json from kaggle profile\n",
        "!mkdir ~/.kaggle\n",
        "\n",
        "!cp kaggle.json ~/.kaggle/\n",
        "\n",
        "#Make directory named kaggle and copy kaggle.json file there.\n",
        "!chmod 600 ~/.kaggle/kaggle.json\n",
        "\n",
        "#Change the permissions of the file.\n",
        "!kaggle datasets list\n",
        "\n",
        "#Download recent NIPS papers Data from Kagle\n",
        "!kaggle datasets download -d yerbaaaa/nips-19872020\n"
      ],
      "execution_count": 18,
      "outputs": [
        {
          "output_type": "stream",
          "text": [
            "Processing /root/.cache/pip/wheels/a1/6a/26/d30b7499ff85a4a4593377a87ecf55f7d08af42f0de9b60303/kaggle-1.5.12-cp37-none-any.whl\n",
            "Installing collected packages: kaggle\n",
            "  Found existing installation: kaggle 1.5.12\n",
            "    Uninstalling kaggle-1.5.12:\n",
            "      Successfully uninstalled kaggle-1.5.12\n",
            "Successfully installed kaggle-1.5.12\n"
          ],
          "name": "stdout"
        },
        {
          "output_type": "display_data",
          "data": {
            "text/html": [
              "\n",
              "     <input type=\"file\" id=\"files-da52922c-a97e-48af-a141-f196ee43a287\" name=\"files[]\" multiple disabled\n",
              "        style=\"border:none\" />\n",
              "     <output id=\"result-da52922c-a97e-48af-a141-f196ee43a287\">\n",
              "      Upload widget is only available when the cell has been executed in the\n",
              "      current browser session. Please rerun this cell to enable.\n",
              "      </output>\n",
              "      <script src=\"/nbextensions/google.colab/files.js\"></script> "
            ],
            "text/plain": [
              "<IPython.core.display.HTML object>"
            ]
          },
          "metadata": {
            "tags": []
          }
        },
        {
          "output_type": "stream",
          "text": [
            "Saving kaggle.json to kaggle (4).json\n",
            "mkdir: cannot create directory ‘/root/.kaggle’: File exists\n",
            "ref                                                         title                                              size  lastUpdated          downloadCount  voteCount  usabilityRating  \n",
            "----------------------------------------------------------  ------------------------------------------------  -----  -------------------  -------------  ---------  ---------------  \n",
            "gpreda/reddit-vaccine-myths                                 Reddit Vaccine Myths                              229KB  2021-06-01 11:18:46           6701        598  1.0              \n",
            "crowww/a-large-scale-fish-dataset                           A Large Scale Fish Dataset                          3GB  2021-04-28 17:03:01           3977        330  0.9375           \n",
            "imsparsh/musicnet-dataset                                   MusicNet Dataset                                   22GB  2021-02-18 14:12:19           1345        116  1.0              \n",
            "dhruvildave/wikibooks-dataset                               Wikibooks Dataset                                   1GB  2021-02-18 10:08:27           2093        153  1.0              \n",
            "promptcloud/careerbuilder-job-listing-2020                  Careerbuilder Job Listing 2020                     42MB  2021-03-05 06:59:52            959         40  1.0              \n",
            "mathurinache/twitter-edge-nodes                             Twitter Edge Nodes                                342MB  2021-03-08 06:43:04            451         52  1.0              \n",
            "fatiimaezzahra/famous-iconic-women                          Famous Iconic Women                               838MB  2021-02-28 14:56:00            683         55  0.75             \n",
            "alsgroup/end-als                                            End ALS Kaggle Challenge                           12GB  2021-04-08 12:16:37            682         99  0.9375           \n",
            "simiotic/github-code-snippets                               GitHub Code Snippets                                7GB  2021-03-03 11:34:39            143         47  1.0              \n",
            "coloradokb/dandelionimages                                  DandelionImages                                     4GB  2021-02-19 20:03:47            398         21  0.75             \n",
            "nickuzmenkov/nih-chest-xrays-tfrecords                      NIH Chest X-rays TFRecords                         11GB  2021-03-09 04:49:23            549         27  0.9411765        \n",
            "mathurinache/the-lj-speech-dataset                          The LJ Speech Dataset                               3GB  2021-02-15 09:19:54            170         35  1.0              \n",
            "stuartjames/lights                                          LightS: Light Specularity Dataset                  18GB  2021-02-18 14:32:26             64         23  0.6875           \n",
            "imsparsh/accentdb-core-extended                             AccentDB - Core & Extended                          6GB  2021-02-17 14:22:54             76         21  0.8125           \n",
            "nickuzmenkov/ranzcr-clip-kfold-tfrecords                    RANZCR CLiP KFold TFRecords                         2GB  2021-02-21 13:29:51             82         18  0.875            \n",
            "landrykezebou/lvzhdr-tone-mapping-benchmark-dataset-tmonet  LVZ-HDR Tone Mapping Benchmark Dataset (TMO-Net)   24GB  2021-03-01 05:03:40             84         16  0.6875           \n",
            "datasnaek/youtube-new                                       Trending YouTube Video Statistics                 201MB  2019-06-03 00:56:47         141601       3983  0.7941176        \n",
            "zynicide/wine-reviews                                       Wine Reviews                                       51MB  2017-11-27 17:08:04         137728       3081  0.7941176        \n",
            "residentmario/ramen-ratings                                 Ramen Ratings                                      40KB  2018-01-11 16:04:39          23586        577  0.7058824        \n",
            "datasnaek/chess                                             Chess Game Dataset (Lichess)                        3MB  2017-09-04 03:09:09          18865        730  0.8235294        \n",
            "nips-19872020.zip: Skipping, found more recently modified local copy (use --force to force download)\n"
          ],
          "name": "stdout"
        }
      ]
    },
    {
      "cell_type": "code",
      "metadata": {
        "colab": {
          "base_uri": "https://localhost:8080/"
        },
        "id": "9_jqiSB54uXI",
        "outputId": "500e9bf3-4ac8-4ae7-df4e-d30a5e5dadea"
      },
      "source": [
        "#Create a directory\n",
        "! mkdir papers\n",
        "\n",
        "#unzip data in directory\n",
        "! unzip nips-19872020.zip -d papers"
      ],
      "execution_count": 20,
      "outputs": [
        {
          "output_type": "stream",
          "text": [
            "mkdir: cannot create directory ‘papers’: File exists\n",
            "Archive:  nips-19872020.zip\n",
            "replace papers/authors.csv? [y]es, [n]o, [A]ll, [N]one, [r]ename: A\n",
            "  inflating: papers/authors.csv      \n",
            "  inflating: papers/institutions.csv  \n",
            "  inflating: papers/papers.csv       \n"
          ],
          "name": "stdout"
        }
      ]
    },
    {
      "cell_type": "code",
      "metadata": {
        "colab": {
          "base_uri": "https://localhost:8080/",
          "height": 302
        },
        "id": "vvUVxKd56SXZ",
        "outputId": "5132d527-7865-4405-b5ff-1ff70294bf86"
      },
      "source": [
        "# Importing modules\n",
        "import pandas as pd\n",
        "\n",
        "# Read datasets/papers.csv into papers\n",
        "papers = pd.read_csv('papers/papers.csv')\n",
        "\n",
        "# Print out the first rows of papers\n",
        "papers.head()"
      ],
      "execution_count": 21,
      "outputs": [
        {
          "output_type": "execute_result",
          "data": {
            "text/html": [
              "<div>\n",
              "<style scoped>\n",
              "    .dataframe tbody tr th:only-of-type {\n",
              "        vertical-align: middle;\n",
              "    }\n",
              "\n",
              "    .dataframe tbody tr th {\n",
              "        vertical-align: top;\n",
              "    }\n",
              "\n",
              "    .dataframe thead th {\n",
              "        text-align: right;\n",
              "    }\n",
              "</style>\n",
              "<table border=\"1\" class=\"dataframe\">\n",
              "  <thead>\n",
              "    <tr style=\"text-align: right;\">\n",
              "      <th></th>\n",
              "      <th>Unnamed: 0</th>\n",
              "      <th>title</th>\n",
              "      <th>abstract</th>\n",
              "      <th>year</th>\n",
              "      <th>paper_index</th>\n",
              "      <th>full_text</th>\n",
              "    </tr>\n",
              "  </thead>\n",
              "  <tbody>\n",
              "    <tr>\n",
              "      <th>0</th>\n",
              "      <td>0</td>\n",
              "      <td>A graph similarity for deep learning</td>\n",
              "      <td>Graph neural networks (GNNs) have been success...</td>\n",
              "      <td>2020</td>\n",
              "      <td>2020</td>\n",
              "      <td>A Graph Similarity for Deep Learning\\nSeongmin...</td>\n",
              "    </tr>\n",
              "    <tr>\n",
              "      <th>1</th>\n",
              "      <td>1</td>\n",
              "      <td>An Unsupervised Information-Theoretic Perceptu...</td>\n",
              "      <td>Tractable models of human perception have prov...</td>\n",
              "      <td>2020</td>\n",
              "      <td>12020</td>\n",
              "      <td>An Unsupervised Information-Theoretic\\nPercept...</td>\n",
              "    </tr>\n",
              "    <tr>\n",
              "      <th>2</th>\n",
              "      <td>2</td>\n",
              "      <td>Self-Supervised MultiModal Versatile Networks</td>\n",
              "      <td>Videos are a rich source of multi-modal superv...</td>\n",
              "      <td>2020</td>\n",
              "      <td>22020</td>\n",
              "      <td>Self-Supervised MultiModal Versatile Networks\\...</td>\n",
              "    </tr>\n",
              "    <tr>\n",
              "      <th>3</th>\n",
              "      <td>3</td>\n",
              "      <td>Benchmarking Deep Inverse Models over time, an...</td>\n",
              "      <td>We consider the task of solving generic invers...</td>\n",
              "      <td>2020</td>\n",
              "      <td>32020</td>\n",
              "      <td>Benchmarking Deep Inverse Models over time, an...</td>\n",
              "    </tr>\n",
              "    <tr>\n",
              "      <th>4</th>\n",
              "      <td>4</td>\n",
              "      <td>Off-Policy Evaluation and Learning for Externa...</td>\n",
              "      <td>We consider the evaluation and training of a n...</td>\n",
              "      <td>2020</td>\n",
              "      <td>42020</td>\n",
              "      <td>Off-Policy Evaluation and Learning\\nfor Extern...</td>\n",
              "    </tr>\n",
              "  </tbody>\n",
              "</table>\n",
              "</div>"
            ],
            "text/plain": [
              "   Unnamed: 0  ...                                          full_text\n",
              "0           0  ...  A Graph Similarity for Deep Learning\\nSeongmin...\n",
              "1           1  ...  An Unsupervised Information-Theoretic\\nPercept...\n",
              "2           2  ...  Self-Supervised MultiModal Versatile Networks\\...\n",
              "3           3  ...  Benchmarking Deep Inverse Models over time, an...\n",
              "4           4  ...  Off-Policy Evaluation and Learning\\nfor Extern...\n",
              "\n",
              "[5 rows x 6 columns]"
            ]
          },
          "metadata": {
            "tags": []
          },
          "execution_count": 21
        }
      ]
    },
    {
      "cell_type": "markdown",
      "metadata": {
        "editable": false,
        "run_control": {
          "frozen": true
        },
        "dc": {
          "key": "11"
        },
        "deletable": false,
        "tags": [
          "context"
        ],
        "id": "oDyMho_13Tta"
      },
      "source": [
        "## 2. Preparing the data for analysis\n",
        "<p>For the analysis of the papers, we are only interested in the text data associated with the paper as well as the year the paper was published in.</p>\n",
        "<p>We will analyze this text data using natural language processing.  Since the file contains some metadata such as id's and filenames, it is necessary to remove all the columns that do not contain useful text information.</p>"
      ]
    },
    {
      "cell_type": "code",
      "metadata": {
        "trusted": true,
        "tags": [
          "sample_code"
        ],
        "dc": {
          "key": "11"
        },
        "colab": {
          "base_uri": "https://localhost:8080/",
          "height": 286
        },
        "id": "_DOvqrtf3Tta",
        "outputId": "a1e45877-25dc-4f50-e8c1-445fd87e46a7"
      },
      "source": [
        "# Remove some columns\n",
        "papers = papers.drop(['paper_index','Unnamed: 0'],axis=1)\n",
        "\n",
        "# Print out the first rows of papers\n",
        "papers.head()"
      ],
      "execution_count": 22,
      "outputs": [
        {
          "output_type": "execute_result",
          "data": {
            "text/html": [
              "<div>\n",
              "<style scoped>\n",
              "    .dataframe tbody tr th:only-of-type {\n",
              "        vertical-align: middle;\n",
              "    }\n",
              "\n",
              "    .dataframe tbody tr th {\n",
              "        vertical-align: top;\n",
              "    }\n",
              "\n",
              "    .dataframe thead th {\n",
              "        text-align: right;\n",
              "    }\n",
              "</style>\n",
              "<table border=\"1\" class=\"dataframe\">\n",
              "  <thead>\n",
              "    <tr style=\"text-align: right;\">\n",
              "      <th></th>\n",
              "      <th>title</th>\n",
              "      <th>abstract</th>\n",
              "      <th>year</th>\n",
              "      <th>full_text</th>\n",
              "    </tr>\n",
              "  </thead>\n",
              "  <tbody>\n",
              "    <tr>\n",
              "      <th>0</th>\n",
              "      <td>A graph similarity for deep learning</td>\n",
              "      <td>Graph neural networks (GNNs) have been success...</td>\n",
              "      <td>2020</td>\n",
              "      <td>A Graph Similarity for Deep Learning\\nSeongmin...</td>\n",
              "    </tr>\n",
              "    <tr>\n",
              "      <th>1</th>\n",
              "      <td>An Unsupervised Information-Theoretic Perceptu...</td>\n",
              "      <td>Tractable models of human perception have prov...</td>\n",
              "      <td>2020</td>\n",
              "      <td>An Unsupervised Information-Theoretic\\nPercept...</td>\n",
              "    </tr>\n",
              "    <tr>\n",
              "      <th>2</th>\n",
              "      <td>Self-Supervised MultiModal Versatile Networks</td>\n",
              "      <td>Videos are a rich source of multi-modal superv...</td>\n",
              "      <td>2020</td>\n",
              "      <td>Self-Supervised MultiModal Versatile Networks\\...</td>\n",
              "    </tr>\n",
              "    <tr>\n",
              "      <th>3</th>\n",
              "      <td>Benchmarking Deep Inverse Models over time, an...</td>\n",
              "      <td>We consider the task of solving generic invers...</td>\n",
              "      <td>2020</td>\n",
              "      <td>Benchmarking Deep Inverse Models over time, an...</td>\n",
              "    </tr>\n",
              "    <tr>\n",
              "      <th>4</th>\n",
              "      <td>Off-Policy Evaluation and Learning for Externa...</td>\n",
              "      <td>We consider the evaluation and training of a n...</td>\n",
              "      <td>2020</td>\n",
              "      <td>Off-Policy Evaluation and Learning\\nfor Extern...</td>\n",
              "    </tr>\n",
              "  </tbody>\n",
              "</table>\n",
              "</div>"
            ],
            "text/plain": [
              "                                               title  ...                                          full_text\n",
              "0               A graph similarity for deep learning  ...  A Graph Similarity for Deep Learning\\nSeongmin...\n",
              "1  An Unsupervised Information-Theoretic Perceptu...  ...  An Unsupervised Information-Theoretic\\nPercept...\n",
              "2      Self-Supervised MultiModal Versatile Networks  ...  Self-Supervised MultiModal Versatile Networks\\...\n",
              "3  Benchmarking Deep Inverse Models over time, an...  ...  Benchmarking Deep Inverse Models over time, an...\n",
              "4  Off-Policy Evaluation and Learning for Externa...  ...  Off-Policy Evaluation and Learning\\nfor Extern...\n",
              "\n",
              "[5 rows x 4 columns]"
            ]
          },
          "metadata": {
            "tags": []
          },
          "execution_count": 22
        }
      ]
    },
    {
      "cell_type": "markdown",
      "metadata": {
        "editable": false,
        "run_control": {
          "frozen": true
        },
        "dc": {
          "key": "18"
        },
        "deletable": false,
        "tags": [
          "context"
        ],
        "id": "Ao7Qdqgt3Ttb"
      },
      "source": [
        "## 3. Plotting how machine learning has evolved over time\n",
        "<p>In order to understand how the machine learning field has recently exploded in popularity, we will begin by visualizing the number of publications per year. </p>\n",
        "<p>By looking at the number of published papers per year,  we can understand the extent of the machine learning 'revolution'! Typically, this significant increase in popularity is attributed to the large amounts of compute power, data and improvements in algorithms.</p>"
      ]
    },
    {
      "cell_type": "code",
      "metadata": {
        "trusted": true,
        "tags": [
          "sample_code"
        ],
        "dc": {
          "key": "18"
        },
        "colab": {
          "base_uri": "https://localhost:8080/",
          "height": 295
        },
        "id": "CvSZYnyV3Ttc",
        "outputId": "6730fd74-57e4-4dca-9c6d-e00fdf0497c6"
      },
      "source": [
        "# Group the papers by year\n",
        "groups = papers.groupby(['year'])\n",
        "\n",
        "# Determine the size of each group\n",
        "counts = groups.size()\n",
        "\n",
        "# Visualise the counts as a bar plot\n",
        "import matplotlib.pyplot as plt\n",
        "%matplotlib inline\n",
        "\n",
        "counts.plot(kind='bar')\n",
        "plt.show()"
      ],
      "execution_count": 23,
      "outputs": [
        {
          "output_type": "display_data",
          "data": {
            "image/png": "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\n",
            "text/plain": [
              "<Figure size 432x288 with 1 Axes>"
            ]
          },
          "metadata": {
            "tags": [],
            "needs_background": "light"
          }
        }
      ]
    },
    {
      "cell_type": "markdown",
      "metadata": {
        "editable": false,
        "run_control": {
          "frozen": true
        },
        "dc": {
          "key": "25"
        },
        "deletable": false,
        "tags": [
          "context"
        ],
        "id": "Qt1JVaf_3Ttc"
      },
      "source": [
        "## 4. Preprocessing the text data\n",
        "<p>Let's now analyze the titles of the different papers to identify machine learning trends. First, we will perform some simple preprocessing on the titles in order to make them more amenable for analysis. We will use a regular expression to remove any punctuation in the title. Then we will perform lowercasing. We'll then print the titles of the first rows before and after applying the modification.</p>"
      ]
    },
    {
      "cell_type": "code",
      "metadata": {
        "trusted": true,
        "tags": [
          "sample_code"
        ],
        "dc": {
          "key": "25"
        },
        "colab": {
          "base_uri": "https://localhost:8080/"
        },
        "id": "7oz3L4Qz3Ttd",
        "outputId": "b5e96b8e-2f3b-4dbf-e4d8-aca3f6042c16"
      },
      "source": [
        "# Load the regular expression library\n",
        "import re\n",
        "\n",
        "# Print the titles of the first rows \n",
        "print(papers['title'].head())\n",
        "\n",
        "# Remove punctuation\n",
        "papers['title_processed'] = papers['title'].map(lambda x: re.sub('[,\\.!?]', '', x))\n",
        "\n",
        "# Convert the titles to lowercase\n",
        "papers['title_processed'] = papers['title_processed'].map(lambda x: x.lower())\n",
        "\n",
        "# Print the processed titles of the first rows \n",
        "papers['title_processed'].head()"
      ],
      "execution_count": 24,
      "outputs": [
        {
          "output_type": "stream",
          "text": [
            "0                 A graph similarity for deep learning\n",
            "1    An Unsupervised Information-Theoretic Perceptu...\n",
            "2        Self-Supervised MultiModal Versatile Networks\n",
            "3    Benchmarking Deep Inverse Models over time, an...\n",
            "4    Off-Policy Evaluation and Learning for Externa...\n",
            "Name: title, dtype: object\n"
          ],
          "name": "stdout"
        },
        {
          "output_type": "execute_result",
          "data": {
            "text/plain": [
              "0                 a graph similarity for deep learning\n",
              "1    an unsupervised information-theoretic perceptu...\n",
              "2        self-supervised multimodal versatile networks\n",
              "3    benchmarking deep inverse models over time and...\n",
              "4    off-policy evaluation and learning for externa...\n",
              "Name: title_processed, dtype: object"
            ]
          },
          "metadata": {
            "tags": []
          },
          "execution_count": 24
        }
      ]
    },
    {
      "cell_type": "markdown",
      "metadata": {
        "editable": false,
        "run_control": {
          "frozen": true
        },
        "dc": {
          "key": "32"
        },
        "deletable": false,
        "tags": [
          "context"
        ],
        "id": "dXVriE1f3Tte"
      },
      "source": [
        "## 5.  A word cloud to visualize the preprocessed text data\n",
        "<p>In order to verify whether the preprocessing happened correctly, we can make a word cloud of the titles of the research papers. This will give us a visual representation of the most common words. Visualisation is key to understanding whether we are still on the right track! In addition, it allows us to verify whether we need additional preprocessing before further analyzing the text data.</p>\n",
        "<p>Python has a massive number of open libraries! Instead of trying to develop a method to create word clouds ourselves, we'll use Andreas Mueller's <a href=\"http://amueller.github.io/word_cloud/\">wordcloud library</a>.</p>"
      ]
    },
    {
      "cell_type": "code",
      "metadata": {
        "trusted": true,
        "tags": [
          "sample_code"
        ],
        "dc": {
          "key": "32"
        },
        "colab": {
          "base_uri": "https://localhost:8080/",
          "height": 217
        },
        "id": "1pnldzwN3Ttf",
        "outputId": "1fffe806-4aa7-477b-8e21-c6373c0bb180"
      },
      "source": [
        "# Import the wordcloud library\n",
        "from wordcloud import WordCloud\n",
        "\n",
        "# Join the different processed titles together.\n",
        "long_string = ' '.join(papers['title_processed'])\n",
        "\n",
        "# Create a WordCloud object\n",
        "wordcloud = WordCloud()\n",
        "\n",
        "# Generate a word cloud\n",
        "wordcloud.generate(long_string)\n",
        "\n",
        "# Visualize the word cloud\n",
        "wordcloud.to_image()"
      ],
      "execution_count": 25,
      "outputs": [
        {
          "output_type": "execute_result",
          "data": {
            "image/png": "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\n",
            "text/plain": [
              "<PIL.Image.Image image mode=RGB size=400x200 at 0x7EFD5F93BA90>"
            ]
          },
          "metadata": {
            "tags": []
          },
          "execution_count": 25
        }
      ]
    },
    {
      "cell_type": "markdown",
      "metadata": {
        "editable": false,
        "run_control": {
          "frozen": true
        },
        "dc": {
          "key": "39"
        },
        "deletable": false,
        "tags": [
          "context"
        ],
        "id": "YP6cqLr-3Tth"
      },
      "source": [
        "## 6.  Prepare the text for LDA analysis\n",
        "<p>The main text analysis method that we will use is latent Dirichlet allocation (LDA). LDA is able to perform topic detection on large document sets, determining what the main 'topics' are in a large unlabeled set of texts. A 'topic' is a collection of words that tend to co-occur often. The hypothesis is that LDA might be able to clarify what the different topics in the research titles are. These topics can then be used as a starting point for further analysis.</p>\n",
        "<p>LDA does not work directly on text data. First, it is necessary to convert the documents into a simple vector representation. This representation will then be used by LDA to determine the topics. Each entry of a 'document vector' will correspond with the number of times a word occurred in the document. In conclusion, we will convert a list of titles into a list of vectors, all with length equal to the vocabulary. For example, <em>'Analyzing machine learning trends with neural networks.'</em> would be transformed into <code>[1, 0, 1, ..., 1, 0]</code>.</p>\n",
        "<p>We'll then plot the 10 most common words based on the outcome of this operation (the list of document vectors). As a check, these words should also occur in the word cloud.</p>"
      ]
    },
    {
      "cell_type": "code",
      "metadata": {
        "trusted": true,
        "tags": [
          "sample_code"
        ],
        "dc": {
          "key": "39"
        },
        "colab": {
          "base_uri": "https://localhost:8080/",
          "height": 347
        },
        "id": "DMExXIhM3Tti",
        "outputId": "e4ed3139-fdf5-432b-f445-8d09e69dea14"
      },
      "source": [
        "# Load the library with the CountVectorizer method\n",
        "from sklearn.feature_extraction.text import CountVectorizer\n",
        "import numpy as np\n",
        "\n",
        "# Helper function\n",
        "def plot_10_most_common_words(count_data, count_vectorizer):\n",
        "    import matplotlib.pyplot as plt\n",
        "    words = count_vectorizer.get_feature_names()\n",
        "    total_counts = np.zeros(len(words))\n",
        "    for t in count_data:\n",
        "        total_counts+=t.toarray()[0]\n",
        "    \n",
        "    count_dict = (zip(words, total_counts))\n",
        "    count_dict = sorted(count_dict, key=lambda x:x[1], reverse=True)[0:10]\n",
        "    words = [w[0] for w in count_dict]\n",
        "    counts = [w[1] for w in count_dict]\n",
        "    x_pos = np.arange(len(words)) \n",
        "\n",
        "    plt.bar(x_pos, counts,align='center')\n",
        "    plt.xticks(x_pos, words, rotation=90) \n",
        "    plt.xlabel('words')\n",
        "    plt.ylabel('counts')\n",
        "    plt.title('10 most common words')\n",
        "    plt.show()\n",
        "\n",
        "# Initialise the count vectorizer with the English stop words\n",
        "count_vectorizer = CountVectorizer(stop_words='english')\n",
        "\n",
        "# Fit and transform the processed titles\n",
        "count_data = count_vectorizer.fit_transform(papers['title_processed'])\n",
        "\n",
        "# Visualise the 10 most common words\n",
        "plot_10_most_common_words(count_data, count_vectorizer)"
      ],
      "execution_count": 26,
      "outputs": [
        {
          "output_type": "display_data",
          "data": {
            "image/png": "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\n",
            "text/plain": [
              "<Figure size 432x288 with 1 Axes>"
            ]
          },
          "metadata": {
            "tags": [],
            "needs_background": "light"
          }
        }
      ]
    },
    {
      "cell_type": "markdown",
      "metadata": {
        "editable": false,
        "run_control": {
          "frozen": true
        },
        "dc": {
          "key": "46"
        },
        "deletable": false,
        "tags": [
          "context"
        ],
        "id": "eKzPJu0_3Ttj"
      },
      "source": [
        "## 7. Analysing trends with LDA\n",
        "<p>Finally, the research titles will be analyzed using LDA. Note that in order to process a new set of documents (e.g. news articles), a similar set of steps will be required to preprocess the data. The flow that was constructed here can thus easily be exported for a new text dataset.</p>\n",
        "<p>The only parameter we will tweak is the number of topics in the LDA algorithm. Typically, one would calculate the 'perplexity' metric to determine which number of topics is best and iterate over different amounts of topics until the lowest 'perplexity' is found. For now, let's play around with a different number of topics. From there, we can distinguish what each topic is about ('neural networks', 'reinforcement learning', 'kernel methods', 'gaussian processes', etc.).</p>"
      ]
    },
    {
      "cell_type": "code",
      "metadata": {
        "trusted": true,
        "tags": [
          "sample_code"
        ],
        "dc": {
          "key": "46"
        },
        "colab": {
          "base_uri": "https://localhost:8080/"
        },
        "id": "vI-FOQy83Ttj",
        "outputId": "84a19601-49bf-49c0-d614-c139da5b03ec"
      },
      "source": [
        "import warnings\n",
        "warnings.simplefilter(\"ignore\", DeprecationWarning)\n",
        "\n",
        "# Load the LDA model from sk-learn\n",
        "from sklearn.decomposition import LatentDirichletAllocation as LDA\n",
        " \n",
        "# Helper function\n",
        "def print_topics(model, count_vectorizer, n_top_words):\n",
        "    words = count_vectorizer.get_feature_names()\n",
        "    for topic_idx, topic in enumerate(model.components_):\n",
        "        print(\"\\nTopic #%d:\" % topic_idx)\n",
        "        print(\" \".join([words[i] for i in topic.argsort()[:-n_top_words - 1:-1]]))\n",
        "        \n",
        "# Tweak the two parameters below (use int values below 15)\n",
        "number_topics = 10\n",
        "number_words = 10\n",
        "\n",
        "# Create and fit the LDA model\n",
        "lda = LDA(n_components=number_topics)\n",
        "lda.fit(count_data)\n",
        "\n",
        "# Print the topics found by the LDA model\n",
        "print(\"Topics found via LDA:\")\n",
        "print_topics(lda, count_vectorizer, number_words)"
      ],
      "execution_count": 27,
      "outputs": [
        {
          "output_type": "stream",
          "text": [
            "Topics found via LDA:\n",
            "\n",
            "Topic #0:\n",
            "optimization model learning natural submodular algorithms visual bandit images convex\n",
            "\n",
            "Topic #1:\n",
            "estimation graph clustering self density differential memory spectral model modeling\n",
            "\n",
            "Topic #2:\n",
            "neural network networks using recognition time speech recurrent based analog\n",
            "\n",
            "Topic #3:\n",
            "learning adversarial large scale classification based multi efficient trees robustness\n",
            "\n",
            "Topic #4:\n",
            "networks neural deep training learning recurrent generative models maximum graph\n",
            "\n",
            "Topic #5:\n",
            "models gaussian inference regression processes process bayesian graphical sparse latent\n",
            "\n",
            "Topic #6:\n",
            "learning gradient stochastic analysis optimization descent approximation variational information algorithm\n",
            "\n",
            "Topic #7:\n",
            "data feature high using learning models kernel random dimensional model\n",
            "\n",
            "Topic #8:\n",
            "learning multi reinforcement deep detection representations bandits object unsupervised active\n",
            "\n",
            "Topic #9:\n",
            "learning supervised policy reinforcement semi visual dynamic robust based non\n"
          ],
          "name": "stdout"
        }
      ]
    },
    {
      "cell_type": "markdown",
      "metadata": {
        "editable": false,
        "run_control": {
          "frozen": true
        },
        "dc": {
          "key": "53"
        },
        "deletable": false,
        "tags": [
          "context"
        ],
        "id": "z80pMVH43Ttj"
      },
      "source": [
        "## 8. The future of machine learning\n",
        "<p>Machine learning has become increasingly popular over the past years. The number of NIPS conference papers has risen exponentially, and people are continuously looking for ways on how they can incorporate machine learning into their products and services.</p>\n",
        "<p>Although this analysis focused on analyzing machine learning trends in research, a lot of these techniques are rapidly being adopted in industry. Following the latest machine learning trends is a critical skill for a data scientist, and it is recommended to continuously keep learning by going through blogs, tutorials, and courses.</p>"
      ]
    }
  ]
}
